{
 "cells": [
  {
   "cell_type": "markdown",
   "id": "08aa70d5",
   "metadata": {},
   "source": [
    "# Travel Check List Machine"
   ]
  },
  {
   "cell_type": "code",
   "execution_count": 2,
   "id": "d1866027",
   "metadata": {},
   "outputs": [],
   "source": [
    "import ipywidgets as widgets\n",
    "import functools"
   ]
  },
  {
   "cell_type": "markdown",
   "id": "2a666e86",
   "metadata": {},
   "source": [
    "## Set Activities"
   ]
  },
  {
   "cell_type": "code",
   "execution_count": 3,
   "id": "001a0292",
   "metadata": {},
   "outputs": [],
   "source": [
    "travelList = []\n",
    "travelCompletes = []"
   ]
  },
  {
   "cell_type": "code",
   "execution_count": 4,
   "id": "f37070c4",
   "metadata": {},
   "outputs": [
    {
     "data": {
      "application/vnd.jupyter.widget-view+json": {
       "model_id": "9926e5d33f2c4b4f9461d669d583aa9a",
       "version_major": 2,
       "version_minor": 0
      },
      "text/plain": [
       "Text(value='', placeholder='Type Activity or Object to Add')"
      ]
     },
     "metadata": {},
     "output_type": "display_data"
    },
    {
     "data": {
      "application/vnd.jupyter.widget-view+json": {
       "model_id": "d66277e2e2c74267b65e7ce117ae76c6",
       "version_major": 2,
       "version_minor": 0
      },
      "text/plain": [
       "Button(description='Add Activity/Object', style=ButtonStyle())"
      ]
     },
     "metadata": {},
     "output_type": "display_data"
    },
    {
     "name": "stdout",
     "output_type": "stream",
     "text": [
      "Added Element: Task 1\n",
      "Added Element: Task 2\n",
      "Added Element: Task 3\n",
      "Added Element: Task 4\n"
     ]
    }
   ],
   "source": [
    "def addElement(listComp,listAdd,b):\n",
    "    print(\"Added Element: {}\".format(obj.value))\n",
    "    listAdd.append(obj.value)\n",
    "    listComp.append(False)\n",
    "obj = widgets.Text(placeholder='Type Activity or Object to Add')\n",
    "display(obj)\n",
    "button = widgets.Button(description=\"Add Activity/Object\")\n",
    "display(button)\n",
    "button.on_click(functools.partial(addElement,travelCompletes,travelList))"
   ]
  },
  {
   "cell_type": "markdown",
   "id": "bb383853",
   "metadata": {},
   "source": [
    "## Delete Activities"
   ]
  },
  {
   "cell_type": "code",
   "execution_count": 5,
   "id": "823ddb14",
   "metadata": {},
   "outputs": [
    {
     "data": {
      "application/vnd.jupyter.widget-view+json": {
       "model_id": "0a93e69796ae42e4b7f479d9da288861",
       "version_major": 2,
       "version_minor": 0
      },
      "text/plain": [
       "Dropdown(options=(), value=None)"
      ]
     },
     "metadata": {},
     "output_type": "display_data"
    },
    {
     "data": {
      "application/vnd.jupyter.widget-view+json": {
       "model_id": "2223318593cb45509751f240063a7628",
       "version_major": 2,
       "version_minor": 0
      },
      "text/plain": [
       "Button(description='Delete Activity/Object', style=ButtonStyle())"
      ]
     },
     "metadata": {},
     "output_type": "display_data"
    },
    {
     "data": {
      "application/vnd.jupyter.widget-view+json": {
       "model_id": "58e97e4c4c2f44e49e42913a02308a39",
       "version_major": 2,
       "version_minor": 0
      },
      "text/plain": [
       "Button(description='Reload', style=ButtonStyle())"
      ]
     },
     "metadata": {},
     "output_type": "display_data"
    }
   ],
   "source": [
    "def deleteObj(listComp,listDel,b):\n",
    "    ind = listDel.index(act.value)\n",
    "    listDel.remove(act.value)\n",
    "    act.options = listDel\n",
    "    del listComp[ind]\n",
    "def ActUpdate(listDel,b):\n",
    "    act.options = listDel\n",
    "act = widgets.Dropdown(options=travelList)\n",
    "display(act)\n",
    "buttonDel = widgets.Button(description=\"Delete Activity/Object\")\n",
    "display(buttonDel)\n",
    "buttonDel.on_click(functools.partial(deleteObj,travelCompletes,travelList))\n",
    "But = widgets.Button(description=\"Reload\")\n",
    "display(But)\n",
    "But.on_click(functools.partial(ActUpdate,travelList))"
   ]
  },
  {
   "cell_type": "markdown",
   "id": "e641beb5",
   "metadata": {},
   "source": [
    "## Travel Check List"
   ]
  },
  {
   "cell_type": "code",
   "execution_count": 7,
   "id": "36136f84",
   "metadata": {},
   "outputs": [
    {
     "name": "stdout",
     "output_type": "stream",
     "text": [
      "To do list (Reload with Ctrl+Enter):\n"
     ]
    },
    {
     "data": {
      "application/vnd.jupyter.widget-view+json": {
       "model_id": "5181c218e7264417bc416fed1d8dd21a",
       "version_major": 2,
       "version_minor": 0
      },
      "text/plain": [
       "Checkbox(value=False, description='Task 1')"
      ]
     },
     "metadata": {},
     "output_type": "display_data"
    },
    {
     "data": {
      "application/vnd.jupyter.widget-view+json": {
       "model_id": "2f19dba4f36948088e3f3bb66f547632",
       "version_major": 2,
       "version_minor": 0
      },
      "text/plain": [
       "Checkbox(value=False, description='Task 2')"
      ]
     },
     "metadata": {},
     "output_type": "display_data"
    },
    {
     "data": {
      "application/vnd.jupyter.widget-view+json": {
       "model_id": "076cb21be375409ab7ed8fe825c2b06d",
       "version_major": 2,
       "version_minor": 0
      },
      "text/plain": [
       "Checkbox(value=False, description='Task 4')"
      ]
     },
     "metadata": {},
     "output_type": "display_data"
    },
    {
     "data": {
      "application/vnd.jupyter.widget-view+json": {
       "model_id": "bf1ccc14a097408bae1290d694b280f5",
       "version_major": 2,
       "version_minor": 0
      },
      "text/plain": [
       "IntProgress(value=0, bar_style='success', description='Progress: ', max=3)"
      ]
     },
     "metadata": {},
     "output_type": "display_data"
    }
   ],
   "source": [
    "def Change(b):\n",
    "    for n in range(len(travelList)):\n",
    "        travelCompletes[n] = checks[n].value\n",
    "    progress.value = travelCompletes.count(True)\n",
    "checks = []\n",
    "progress = widgets.IntProgress(value=travelCompletes.count(True),min=0,max=len(travelList),description='Progress: ',bar_style='success',style={'bar-color':'green'})\n",
    "print(\"To do list (Reload with Ctrl+Enter):\")\n",
    "for n in range(len(travelList)):\n",
    "    checks.append(widgets.Checkbox(value=travelCompletes[n],description=travelList[n],disabled=False))\n",
    "    display(checks[n])\n",
    "    checks[n].observe(Change)\n",
    "display(progress)"
   ]
  }
 ],
 "metadata": {
  "kernelspec": {
   "display_name": "Python 3",
   "language": "python",
   "name": "python3"
  },
  "language_info": {
   "codemirror_mode": {
    "name": "ipython",
    "version": 3
   },
   "file_extension": ".py",
   "mimetype": "text/x-python",
   "name": "python",
   "nbconvert_exporter": "python",
   "pygments_lexer": "ipython3",
   "version": "3.8.8"
  }
 },
 "nbformat": 4,
 "nbformat_minor": 5
}
